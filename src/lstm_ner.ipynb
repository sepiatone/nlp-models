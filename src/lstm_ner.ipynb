{
  "nbformat": 4,
  "nbformat_minor": 0,
  "metadata": {
    "colab": {
      "name": "lstm_ner.ipynb",
      "provenance": [],
      "collapsed_sections": [
        "AU3aenm0Zota",
        "DzQs9WJngfsp"
      ],
      "toc_visible": true
    },
    "kernelspec": {
      "name": "python3",
      "display_name": "Python 3"
    },
    "accelerator": "GPU"
  },
  "cells": [
    {
      "cell_type": "markdown",
      "metadata": {
        "id": "dkDEsdD3Wsda",
        "colab_type": "text"
      },
      "source": [
        "#### **Named Entity Recognition using LSTM**\n",
        "\n",
        "The NLP task [Named Entity Recognition](https://en.wikipedia.org/wiki/Named-entity_recognition) (NER) is to classify named entity's within a corpus into predefined categories.\n",
        "\n",
        "We explore the use of a [LSTM](https://en.wikipedia.org/wiki/Long_short-term_memory) architecture to perform NER. The dataset used is the MIT-Restaurants dataset. The tagging of the dataset is in the [IOB2](https://en.wikipedia.org/wiki/Inside%E2%80%93outside%E2%80%93beginning_(tagging)) format.\n",
        "\n",
        "Note: Framework based off https://github.com/lingo-mit/6864-hw2/blob/master/6864_hw2.ipynb\n",
        "\n",
        "Note: For a gentler introduction to the LSTM architecture see [Understanding LSTM Networks](https://colah.github.io/posts/2015-08-Understanding-LSTMs/)."
      ]
    },
    {
      "cell_type": "markdown",
      "metadata": {
        "id": "AU3aenm0Zota",
        "colab_type": "text"
      },
      "source": [
        "#### **Setup**\n",
        "\n",
        "Import and read in the dataset"
      ]
    },
    {
      "cell_type": "code",
      "metadata": {
        "id": "pRcN9c6leOWo",
        "colab_type": "code",
        "outputId": "9e94b4c3-7000-4bb9-fb44-7008a32891d4",
        "colab": {
          "base_uri": "https://localhost:8080/",
          "height": 0
        }
      },
      "source": [
        "import numpy as np\n",
        "\n",
        "import time\n",
        "import math\n",
        "\n",
        "import torch\n",
        "import torch.nn as nn\n",
        "import torch.nn.functional as F\n",
        "\n",
        "import util\n",
        "\n",
        "\n",
        "device = \"cuda\" if torch.cuda.is_available() else \"cpu\"\n",
        "assert device == \"cuda\" # use a gpu!\n",
        "\n",
        "\n",
        "train_data = util.read_file_txt(\"../data/mit_restaurants-train.dat\", type = \"word\")\n",
        "train_tags = util.read_file_txt(\"../data/mit_restaurants-train.tag\", type = \"word\")\n",
        "\n",
        "test_data = util.read_file_txt(\"../data/mit_restaurants-test.dat\", type = \"word\")\n",
        "test_tags = util.read_file_txt(\"../data/mit_restaurants-test.tag\", type = \"word\")\n",
        "\n",
        "print('number of training samples:', len(train_data))\n",
        "print('number of testing samples:',  len(test_data))\n",
        "# print('average sentence length in training data', (np.mean([len(sent) for sent in train_data])))\n",
        "print()\n",
        "\n",
        "print('the first few sentences are:', train_data[0:3])\n",
        "print('and their cp\\'ding named entity sequences are: ', str(train_tags[0:3]))\n",
        "print()"
      ],
      "execution_count": 1,
      "outputs": [
        {
          "output_type": "stream",
          "text": [
            "number of training samples: 7660\n",
            "number of testing samples: 1521\n",
            "\n",
            "the first few sentences are: [['2', 'start', 'restaurants', 'with', 'inside', 'dining'], ['34'], ['5', 'star', 'resturants', 'in', 'my', 'town']]\n",
            "and their cp'ding named entity sequences are:  [['B-Rating', 'I-Rating', 'O', 'O', 'B-Amenity', 'I-Amenity'], ['O'], ['B-Rating', 'I-Rating', 'O', 'B-Location', 'I-Location', 'I-Location']]\n",
            "\n"
          ],
          "name": "stdout"
        }
      ]
    },
    {
      "cell_type": "markdown",
      "metadata": {
        "id": "DzQs9WJngfsp",
        "colab_type": "text"
      },
      "source": [
        "#### **Data Preprocessing**"
      ]
    },
    {
      "cell_type": "code",
      "metadata": {
        "id": "44uSZVEXg48r",
        "colab_type": "code",
        "outputId": "9463476c-b8e7-42a2-a565-9b84431604cc",
        "colab": {
          "base_uri": "https://localhost:8080/",
          "height": 0
        }
      },
      "source": [
        "# helper functions and more data preprocessing before we move on to implementing our models.\n",
        "\n",
        "# from train data, collect all unique word types as a set and add 'UNK' to it (unseen words in test data will be turned into 'UNK')\n",
        "vocab_set = list(set([word for sent in train_data for word in sent])) + ['UNK']\n",
        "num_vocabs = len(vocab_set)\n",
        "print(\"number of word types (including 'UNK'):\", num_vocabs)\n",
        "print(\"the first couple and last couple of words in the vocabulary set:\", vocab_set[0:2] +  vocab_set[-2:])\n",
        "\n",
        "vocab2id = {v : i for i, v in enumerate(vocab_set)}\n",
        "\n",
        "#  collect all tag (class) types and assign an unique id to each of them. (here there won't be a unseen tag type in test data)\n",
        "tag_set = list(set([tag for tag_seq in train_tags for tag in tag_seq]))\n",
        "num_tags = len(tag_set)\n",
        "print(\"number of tag types:\", num_tags)\n",
        "print()\n",
        "\n",
        "# assign each tag type a unique id, also create the inverse dict of tag2id (required during evaluation)\n",
        "tag2id = {t : i for i, t in enumerate(tag_set)} \n",
        "id2tag = {i : t for t, i in tag2id.items()}\n",
        "\n",
        "# apply one-hot encoding to data.\n",
        "train_data_oh_list = [util.one_hot_encoding(sent, vocab2id, vocab_set) for sent in train_data]\n",
        "# print(\"oh data[0] - len:\", len(train_data_oh_list[0]), \"shape:\", train_data_oh_list[0].shape)\n",
        "\n",
        "# transform tag names into ids\n",
        "train_tags_id_list = [util.encoding_idx(tag_seq, tag2id) for tag_seq in train_tags]\n",
        "# print(\"list len, tag data:\", len(train_tags_id_list))\n",
        "\n",
        "# train_data_oh_list should now be a list of 2d-tensors, each has shape (sent_len, num_vocabs)\n",
        "# Note that to utilize the `shape` attribute, each element in the list should already be a torch tensor.\n",
        "print(\"first sentence has shape: %s\" % str(train_data_oh_list[0].shape))\n",
        "print(\"fifth sentence has shape: %s\" % str(train_data_oh_list[4].shape))\n",
        "\n",
        "# train_tags_id_list is a list of 1d-tensors, each that has shape (sent_len,)\n",
        "print(\"first tag sequence has shape: %s\" % train_tags_id_list[0].shape)\n",
        "print(\"fifth tag sequence has shape: %s\" % train_tags_id_list[4].shape)\n",
        "print()\n",
        "\n",
        "\n",
        "# Apply same conversion to test dataset.\n",
        "test_data_oh_list = [util.one_hot_encoding(sent, vocab2id, vocab_set) for sent in test_data]\n",
        "test_tags_id_list = [util.encoding_idx(tag_seq, tag2id) for tag_seq in test_tags]\n",
        "# print(\"list len, oh test:\", len(test_data_oh_list))\n",
        "# print(\"list len, tag test:\", len(test_tags_id_list))\n",
        "# print(\"first sentence has shape: %s\" % str(test_data_oh_list[0].shape))\n",
        "# print(\"fifth sentence has shape: %s\" % str(test_data_oh_list[4].shape))\n"
      ],
      "execution_count": 2,
      "outputs": [
        {
          "output_type": "stream",
          "text": [
            "number of word types (including 'UNK'): 3805\n",
            "the first couple and last couple of words in the vocabulary set: ['romana', 'already', 'pleas', 'UNK']\n",
            "number of tag types: 17\n",
            "\n",
            "first sentence has shape: torch.Size([6, 3805])\n",
            "fifth sentence has shape: torch.Size([12, 3805])\n",
            "first tag sequence has shape: 6\n",
            "fifth tag sequence has shape: 12\n",
            "\n"
          ],
          "name": "stdout"
        }
      ]
    },
    {
      "cell_type": "markdown",
      "metadata": {
        "id": "j7gCDSGGdfeZ",
        "colab_type": "text"
      },
      "source": [
        "#### **LSTM**\n",
        "\n",
        "We implement a vanilla LSTM from scratch, then train it and evaluate its performance on the NER task.\n",
        "\n"
      ]
    },
    {
      "cell_type": "markdown",
      "metadata": {
        "id": "m37BjwIIef15",
        "colab_type": "text"
      },
      "source": [
        "##### **LSTM architecture**"
      ]
    },
    {
      "cell_type": "code",
      "metadata": {
        "id": "-_t2jPVDd3bm",
        "colab_type": "code",
        "colab": {}
      },
      "source": [
        "class LSTM_NER(nn.Module):\n",
        "\n",
        "  def __init__(self, input_size, hidden_size, output_size):\n",
        "    super().__init__()\n",
        "\n",
        "    self.input_size = input_size\n",
        "    self.hidden_size = hidden_size\n",
        "    self.output_size = output_size        \n",
        "\n",
        "    self.lstm_ner = nn.LSTM(self.input_size, self.hidden_size)\n",
        "    self.output = nn.Linear(self.hidden_size, self.output_size)\n",
        "\n",
        "\n",
        "  def forward(self, input, hidden, memory):\n",
        "    \"\"\"\n",
        "    The `forward` function just performs one step of update and output logits before softmax.\n",
        "\n",
        "    `input` is a 2d-tensor of shape (1, input_size);\n",
        "    `hidden` and `memory` are both 2d-tensors of shape (1, hidden_size), representing the hidden and memory states of the previous time step.\n",
        "    \"\"\"\n",
        "\n",
        "    output_lstm, hidden = self.lstm_ner(input, (hidden, memory))\n",
        "    output = self.output(output_lstm)\n",
        "    \n",
        "    return output, hidden\n",
        "\n",
        "  def init_state(self):\n",
        "    \"\"\"     # initialize hidden and memory states.\"\"\"\n",
        "    return (torch.zeros( (1, 1, hidden_size), dtype = torch.float).to(device), torch.zeros( (1, 1, hidden_size), dtype = torch.float).to(device))"
      ],
      "execution_count": 0,
      "outputs": []
    },
    {
      "cell_type": "markdown",
      "metadata": {
        "id": "KxQfXsM0dz4m",
        "colab_type": "text"
      },
      "source": [
        "##### **Training**\n",
        "\n",
        "The function $train\\_one\\_sample$, takes a (sentence tensor, tag tensor) pair as input and does one step of the gradient update.\n",
        "\n",
        "The input size is set to the vocbulary size of the dataset, the size of the hidden state is set to $128$ and the output size is set to the number of tags in the dataset."
      ]
    },
    {
      "cell_type": "code",
      "metadata": {
        "id": "CPrT97TNWkHF",
        "colab_type": "code",
        "outputId": "82a38122-6cbc-4799-a158-b7f7606482f7",
        "colab": {
          "base_uri": "https://localhost:8080/",
          "height": 1000
        }
      },
      "source": [
        "learning_rate = 1e-3\n",
        "hidden_size = 128\n",
        "\n",
        "\n",
        "model = LSTM_NER(input_size = num_vocabs, hidden_size = hidden_size, output_size = num_tags).to(device)\n",
        " \n",
        "criterion = nn.CrossEntropyLoss()\n",
        "optimizer = torch.optim.Adam(model.parameters(), lr = learning_rate)\n",
        "\n",
        "\n",
        "\"\"\"\n",
        "Run through a sentence, generate output, compute loss, and perform one gradient update\n",
        "Sentence and tag are represented as a 2d-tensor `sent_tensor` and a 1d-tensor `tag_tensor`, respectively.\n",
        "\"\"\"\n",
        "def train_one_sample(model, sent_tensor, tag_tensor):\n",
        "  hidden, memory = model.init_state()     # initialize state of the model\n",
        "  loss = torch.zeros(1, dtype = torch.float).to(device)\n",
        "\n",
        "  # print(\"sent_tensor.shape:\", sent_tensor.shape)\n",
        "  sent_tensor = sent_tensor.reshape(sent_tensor.shape[0], 1, sent_tensor.shape[1])\n",
        "  # print(\"sent_tensor.shape:\", sent_tensor.shape)\n",
        "\n",
        "  output, _ = model(sent_tensor, hidden, memory)\n",
        "\n",
        "  # print(\"output.shape:\", output.shape, \"tag_tensor.shape:\", tag_tensor.shape)\n",
        "  output= output.reshape(output.shape[0], output.shape[2])\n",
        "  # print(\"output.shape:\", output.shape)\n",
        "\n",
        "  loss = criterion(output, tag_tensor)\n",
        "\n",
        "  # print(sent_tensor.device, tag_tensor.device, hidden.device, outputs.device, (torch.cuda.LongTensor([tag_tensor[0]]).to(device)).device)\n",
        "\n",
        "  # for idx in range(sent_tensor.shape[0]):\n",
        "  #   # print(model.hidden.weight.grad, model.output.weight.grad)\n",
        "  #   outputs, hidden, memory = model(sent_tensor[idx].reshape(1, sent_tensor.shape[1]), hidden, memory)\n",
        "  #   loss = loss + criterion(outputs, torch.LongTensor([tag_tensor[idx]]).to(device))\n",
        "      \n",
        "  # loss = loss / len(tag_tensor)   # average the loss over all tags in the sentance\n",
        "\n",
        "  optimizer.zero_grad()\n",
        "  loss.backward()\n",
        "  optimizer.step()\n",
        "\n",
        "  return output, loss.item()\n",
        "\n",
        "\n",
        "# main training loop for the lstm\n",
        "num_epochs = 10\n",
        "iter_count = 0\n",
        "print_every = 1000\n",
        "plot_every = 50\n",
        "\n",
        "# Keep track of losses for plotting\n",
        "current_loss = 0\n",
        "all_losses = []\n",
        "\n",
        "b_calc_grad_norm = False # set to true if we want to analyze how the gradient changes over training\n",
        "\n",
        "if b_calc_grad_norm:\n",
        "  current_grad_norm = 0\n",
        "  all_grad_norms = []\n",
        "\n",
        "\n",
        "start = time.time()\n",
        "\n",
        "model.train()\n",
        " \n",
        "for idx_epoch in range(num_epochs):\n",
        "  for sent_tensor, tag_tensor in zip(train_data_oh_list, train_tags_id_list):\n",
        "    sent_tensor = sent_tensor.to(device)\n",
        "    tag_tensor = tag_tensor.to(device)\n",
        "\n",
        "    output, loss = train_one_sample(model, sent_tensor, tag_tensor)\n",
        "    current_loss += loss\n",
        "\n",
        "\n",
        "    if b_calc_grad_norm:\n",
        "      grad = torch.FloatTensor( (1, 1)).to(device)\n",
        "      \n",
        "      for param in model.parameters():\n",
        "        grad = torch.cat( (grad, torch.reshape(param.grad, (-1, ))))\n",
        "      \n",
        "      current_grad_norm += torch.norm(grad.to(\"cpu\"), 2)\n",
        "\n",
        "    if iter_count % print_every == 0:\n",
        "      if b_calc_grad_norm:\n",
        "        print(\"epoch: {}, iteration: {}, time: {}, loss: {:0.4f}, grad_norm: {:0.4f}\".format(idx_epoch, iter_count, util.time_since(start), loss, torch.norm(grad.to(\"cpu\"), 2)))\n",
        "      else:\n",
        "        print(\"epoch: {}, iteration: {}, time: {}, loss: {:0.4f}\".format(idx_epoch, iter_count, util.time_since(start), loss))\n",
        "\n",
        "\n",
        "    # add current loss avg to list of losses\n",
        "    if iter_count % plot_every == 0 and iter_count > 0:\n",
        "      all_losses.append(current_loss / plot_every)\n",
        "      current_loss = 0\n",
        "      \n",
        "      if b_calc_grad_norm: \n",
        "        all_grad_norms.append(current_grad_norm / plot_every)\n",
        "        current_grad_norm = 0\n",
        "\n",
        "    iter_count += 1"
      ],
      "execution_count": 4,
      "outputs": [
        {
          "output_type": "stream",
          "text": [
            "epoch: 0, iteration: 0, time: 0m 0s, loss: 2.8441\n",
            "epoch: 0, iteration: 1000, time: 0m 2s, loss: 2.6534\n",
            "epoch: 0, iteration: 2000, time: 0m 4s, loss: 0.6168\n",
            "epoch: 0, iteration: 3000, time: 0m 7s, loss: 2.1126\n",
            "epoch: 0, iteration: 4000, time: 0m 9s, loss: 1.4473\n",
            "epoch: 0, iteration: 5000, time: 0m 12s, loss: 0.1140\n",
            "epoch: 0, iteration: 6000, time: 0m 14s, loss: 0.4748\n",
            "epoch: 0, iteration: 7000, time: 0m 17s, loss: 0.5433\n",
            "epoch: 1, iteration: 8000, time: 0m 19s, loss: 0.4170\n",
            "epoch: 1, iteration: 9000, time: 0m 22s, loss: 0.8285\n",
            "epoch: 1, iteration: 10000, time: 0m 24s, loss: 0.2111\n",
            "epoch: 1, iteration: 11000, time: 0m 27s, loss: 0.4019\n",
            "epoch: 1, iteration: 12000, time: 0m 29s, loss: 0.0276\n",
            "epoch: 1, iteration: 13000, time: 0m 31s, loss: 0.0762\n",
            "epoch: 1, iteration: 14000, time: 0m 34s, loss: 0.0208\n",
            "epoch: 1, iteration: 15000, time: 0m 36s, loss: 1.1798\n",
            "epoch: 2, iteration: 16000, time: 0m 39s, loss: 0.2719\n",
            "epoch: 2, iteration: 17000, time: 0m 41s, loss: 0.0115\n",
            "epoch: 2, iteration: 18000, time: 0m 44s, loss: 0.0495\n",
            "epoch: 2, iteration: 19000, time: 0m 46s, loss: 0.0159\n",
            "epoch: 2, iteration: 20000, time: 0m 49s, loss: 0.9282\n",
            "epoch: 2, iteration: 21000, time: 0m 51s, loss: 0.0760\n",
            "epoch: 2, iteration: 22000, time: 0m 53s, loss: 0.1927\n",
            "epoch: 3, iteration: 23000, time: 0m 56s, loss: 0.1680\n",
            "epoch: 3, iteration: 24000, time: 0m 58s, loss: 0.0051\n",
            "epoch: 3, iteration: 25000, time: 1m 1s, loss: 0.0297\n",
            "epoch: 3, iteration: 26000, time: 1m 3s, loss: 0.3259\n",
            "epoch: 3, iteration: 27000, time: 1m 6s, loss: 0.0096\n",
            "epoch: 3, iteration: 28000, time: 1m 8s, loss: 0.0142\n",
            "epoch: 3, iteration: 29000, time: 1m 11s, loss: 1.5959\n",
            "epoch: 3, iteration: 30000, time: 1m 13s, loss: 0.0390\n",
            "epoch: 4, iteration: 31000, time: 1m 16s, loss: 0.0067\n",
            "epoch: 4, iteration: 32000, time: 1m 18s, loss: 0.0031\n",
            "epoch: 4, iteration: 33000, time: 1m 20s, loss: 0.0950\n",
            "epoch: 4, iteration: 34000, time: 1m 23s, loss: 0.0262\n",
            "epoch: 4, iteration: 35000, time: 1m 25s, loss: 0.4255\n",
            "epoch: 4, iteration: 36000, time: 1m 28s, loss: 0.0494\n",
            "epoch: 4, iteration: 37000, time: 1m 30s, loss: 0.1330\n",
            "epoch: 4, iteration: 38000, time: 1m 33s, loss: 0.1295\n",
            "epoch: 5, iteration: 39000, time: 1m 35s, loss: 0.0080\n",
            "epoch: 5, iteration: 40000, time: 1m 38s, loss: 0.4048\n",
            "epoch: 5, iteration: 41000, time: 1m 40s, loss: 0.0041\n",
            "epoch: 5, iteration: 42000, time: 1m 43s, loss: 0.0273\n",
            "epoch: 5, iteration: 43000, time: 1m 45s, loss: 0.0126\n",
            "epoch: 5, iteration: 44000, time: 1m 48s, loss: 0.0031\n",
            "epoch: 5, iteration: 45000, time: 1m 50s, loss: 0.3695\n",
            "epoch: 6, iteration: 46000, time: 1m 53s, loss: 0.5116\n",
            "epoch: 6, iteration: 47000, time: 1m 55s, loss: 0.0289\n",
            "epoch: 6, iteration: 48000, time: 1m 58s, loss: 0.4964\n",
            "epoch: 6, iteration: 49000, time: 2m 0s, loss: 0.0122\n",
            "epoch: 6, iteration: 50000, time: 2m 3s, loss: 0.0050\n",
            "epoch: 6, iteration: 51000, time: 2m 5s, loss: 0.0650\n",
            "epoch: 6, iteration: 52000, time: 2m 8s, loss: 0.0502\n",
            "epoch: 6, iteration: 53000, time: 2m 10s, loss: 0.0181\n",
            "epoch: 7, iteration: 54000, time: 2m 12s, loss: 0.0577\n",
            "epoch: 7, iteration: 55000, time: 2m 15s, loss: 0.0087\n",
            "epoch: 7, iteration: 56000, time: 2m 17s, loss: 0.0458\n",
            "epoch: 7, iteration: 57000, time: 2m 20s, loss: 0.0158\n",
            "epoch: 7, iteration: 58000, time: 2m 22s, loss: 0.0239\n",
            "epoch: 7, iteration: 59000, time: 2m 25s, loss: 0.2608\n",
            "epoch: 7, iteration: 60000, time: 2m 27s, loss: 0.0049\n",
            "epoch: 7, iteration: 61000, time: 2m 30s, loss: 0.0086\n",
            "epoch: 8, iteration: 62000, time: 2m 32s, loss: 0.0608\n",
            "epoch: 8, iteration: 63000, time: 2m 35s, loss: 0.0815\n",
            "epoch: 8, iteration: 64000, time: 2m 37s, loss: 0.0088\n",
            "epoch: 8, iteration: 65000, time: 2m 40s, loss: 0.3746\n",
            "epoch: 8, iteration: 66000, time: 2m 42s, loss: 0.0366\n",
            "epoch: 8, iteration: 67000, time: 2m 45s, loss: 0.0003\n",
            "epoch: 8, iteration: 68000, time: 2m 47s, loss: 0.1764\n",
            "epoch: 9, iteration: 69000, time: 2m 50s, loss: 0.0731\n",
            "epoch: 9, iteration: 70000, time: 2m 53s, loss: 0.0058\n",
            "epoch: 9, iteration: 71000, time: 2m 55s, loss: 0.0013\n",
            "epoch: 9, iteration: 72000, time: 2m 58s, loss: 0.0863\n",
            "epoch: 9, iteration: 73000, time: 3m 0s, loss: 0.0236\n",
            "epoch: 9, iteration: 74000, time: 3m 3s, loss: 0.0015\n",
            "epoch: 9, iteration: 75000, time: 3m 5s, loss: 0.0230\n",
            "epoch: 9, iteration: 76000, time: 3m 8s, loss: 0.0009\n"
          ],
          "name": "stdout"
        }
      ]
    },
    {
      "cell_type": "markdown",
      "metadata": {
        "id": "7wicccX-eNZu",
        "colab_type": "text"
      },
      "source": [
        "##### **Evaluation**"
      ]
    },
    {
      "cell_type": "markdown",
      "metadata": {
        "id": "vwsFjcYBmWL_",
        "colab_type": "text"
      },
      "source": [
        "We plot the learning curve. We also evaluate the model on the test data."
      ]
    },
    {
      "cell_type": "markdown",
      "metadata": {
        "id": "8eYuprdb3d1i",
        "colab_type": "text"
      },
      "source": [
        "###### **Learning Curve**\n",
        "\n",
        "We plot the learning curve."
      ]
    },
    {
      "cell_type": "code",
      "metadata": {
        "id": "5KPXOHLheN7G",
        "colab_type": "code",
        "outputId": "7dd0ed30-ba9d-4391-b2d0-a4b149ff6f9d",
        "colab": {
          "base_uri": "https://localhost:8080/",
          "height": 295
        }
      },
      "source": [
        "# plot the learning curve. The x-axis is the training iterations and the y-axis is the training loss. The loss should be going down.\n",
        "import matplotlib.pyplot as plt\n",
        "import matplotlib.ticker as ticker\n",
        "\n",
        "x_axis_pts = np.array([idx for idx, _ in enumerate(all_losses)])\n",
        "\n",
        "if b_calc_grad_norm:\n",
        "  fig, (ax_1, ax_2) = plt.subplots(1, 2)\n",
        "  \n",
        "  ax_1.plot(x_axis_pts, all_losses)\n",
        "  ax_1.set_xlabel(\"iteration\")\n",
        "  ax_1.set_ylabel(\"loss\")\n",
        "  ax_1.set_title(\"learning curve\");\n",
        "\n",
        "  ax_2.plot(x_axis_pts, all_grad_norms)\n",
        "  ax_2.set_xlabel(\"iteration\")\n",
        "  ax_2.set_ylabel(\"norm of the gradient\")\n",
        "  ax_2.set_title(\"gradient descent\");\n",
        "\n",
        "else:\n",
        "  fig, ax = plt.subplots()\n",
        "  ax.plot(x_axis_pts, all_losses)\n",
        "  ax.set_xlabel(\"iteration\")\n",
        "  ax.set_ylabel(\"loss\")\n",
        "  ax.set_title(\"learning curve\");"
      ],
      "execution_count": 5,
      "outputs": [
        {
          "output_type": "display_data",
          "data": {
            "image/png": "[encoded data removed]",
            "text/plain": [
              "<Figure size 432x288 with 1 Axes>"
            ]
          },
          "metadata": {
            "tags": []
          }
        }
      ]
    },
    {
      "cell_type": "markdown",
      "metadata": {
        "id": "P90yPixR3ojS",
        "colab_type": "text"
      },
      "source": [
        "###### **Inference**\n",
        "\n",
        "We use the trained model to run inference on the test dataset and compute the [precision, recall](https://en.wikipedia.org/wiki/Precision_and_recall) and [f1 score](https://en.wikipedia.org/wiki/F1_score)"
      ]
    },
    {
      "cell_type": "code",
      "metadata": {
        "id": "UVj-JXcOmkBj",
        "colab_type": "code",
        "colab": {
          "base_uri": "https://localhost:8080/",
          "height": 35
        },
        "outputId": "53101bf0-fc17-42c5-d944-a451a7311830"
      },
      "source": [
        "# Make prediction for one sentence.\n",
        "def predict(model, sent_tensor):\n",
        "  hidden, memory = model.init_state()\n",
        "\n",
        "  predicted_tag_id = []\n",
        "\n",
        "  sent_tensor = sent_tensor.reshape(sent_tensor.shape[0], 1, sent_tensor.shape[1])\n",
        "  output, _ = model(sent_tensor, hidden, memory)\n",
        "  output = output.reshape(output.shape[0], output.shape[2])\n",
        "  predicted_tag_id = np.argmax(output.detach().cpu().numpy(), axis = 1)\n",
        "\n",
        "  return predicted_tag_id\n",
        " \n",
        " \n",
        "model.eval()\n",
        "predicted_tags = []\n",
        " \n",
        "for sent_tensor in test_data_oh_list:\n",
        "    sent_tensor = sent_tensor.to(device)\n",
        "    predicted_tag_id = predict(model, sent_tensor)\n",
        "    predicted_tags.append([id2tag[idx] for idx in predicted_tag_id])\n",
        "  \n",
        "   \n",
        "# precision, recall, and f1 score\n",
        "\n",
        "# Example: true_tag_list/predicted_tag_list:\n",
        "#   [[‘O’, ‘O’, ‘I’, ‘N’, ...]\n",
        "#    [‘I’, ‘I’, ‘O’, ‘N’, ...]],\n",
        "precision, recall, f1_score = util.evaluate_result(test_tags, predicted_tags)\n",
        "print(\"precision: {:0.4f}, recall: {:0.4f}, f1 score: {:0.4f}\".format(precision, recall, f1_score))"
      ],
      "execution_count": 6,
      "outputs": [
        {
          "output_type": "stream",
          "text": [
            "precision: 0.7501, recall: 0.7531, f1 score: 0.7449\n"
          ],
          "name": "stdout"
        }
      ]
    }
  ]
}